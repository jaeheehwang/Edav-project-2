{
 "cells": [
  {
   "cell_type": "code",
   "execution_count": 87,
   "metadata": {
    "collapsed": true
   },
   "outputs": [],
   "source": [
    "import re\n",
    "\n",
    "import pandas as pd\n",
    "import numpy as np\n",
    "import seaborn as sns\n",
    "import matplotlib.pyplot as plt"
   ]
  },
  {
   "cell_type": "code",
   "execution_count": 88,
   "metadata": {
    "collapsed": false
   },
   "outputs": [
    {
     "name": "stdout",
     "output_type": "stream",
     "text": [
      "Populating the interactive namespace from numpy and matplotlib\n"
     ]
    }
   ],
   "source": [
    "% pylab inline"
   ]
  },
  {
   "cell_type": "code",
   "execution_count": 89,
   "metadata": {
    "collapsed": false
   },
   "outputs": [],
   "source": [
    "floods = pd.read_csv('../data/GlobalFloodsRecord - original.csv')"
   ]
  },
  {
   "cell_type": "markdown",
   "metadata": {},
   "source": [
    "### Review of Columns\n",
    " - Register # \n",
    "     - some sort of identifier, not sure though\n",
    "     - id column\n",
    " - Annual DFO #\n",
    "     - some sort of identifier, not sure though\n",
    "     - id column     \n",
    " - Glide # \n",
    "     - Identifier see: http://www.glidenumber.net/glide/public/about.jsp\n",
    "     - id column\n",
    " - Country \n",
    "     - the country where the flood took place\n",
    "     - description column\n",
    " - Other \n",
    "     - also the country where the flood took place?\n",
    "     - description column     \n",
    " - Nations \n",
    "     - empty column DROP\n",
    " - Affected \n",
    "     - empty colum DROP\n",
    " - Detailed Locations (click on active links to access inundation extents) \n",
    "     - more specific locations for the floods (contains cities and some small countries).  Heterogeneous mix of political and geographical regions that don't follow a strict structure\n",
    " - Validation (post event #3503)\n",
    "     - seems like source of event validation (news, etc.)\n",
    "     - description column     \n",
    " - Began \n",
    "     - startdate of the event\n",
    "     - description column     \n",
    " - Ended \n",
    "     - end date of the event\n",
    "     - description column     \n",
    " - Duration in Days \n",
    "     - duration of the flood\n",
    "     - description column     \n",
    " - Dead\n",
    "     - number of people killed by the flood\n",
    "     - consequence column\n",
    " - Displaced\n",
    "     - number of people displaced by the event\n",
    "     - consequence column\n",
    " - Damage (USD) \n",
    "     - damage done by the flood in us dollars\n",
    "     - consequence column     \n",
    " - Main cause \n",
    "     - the cause of the flood\n",
    "     - description column\n",
    " - Severity \n",
    "     - severity of the flood (not sure how this is calculated)\n",
    "     - description column  \n",
    " - Affected sq km \n",
    "     - area affected by the flood in sq km\n",
    "     - description column     \n",
    " - Magnitude (M)\n",
    "     - not really sure how magnitude is determined\n",
    " - Centroid X\n",
    "     - longitudinal cooridnate of the flood center\n",
    " - Centroid Y\n",
    "     - latitudinal cooridnate of the flood center\n",
    " - \"News\" if validated\n",
    "     - looks like a duplicate of validated. not really sure what this is either\n",
    "     - description column          \n",
    " - M>6 \n",
    "     - boolean field if the magnitude is greater than 6\n",
    "     - derived column\n",
    " - Total annual floods M>6\n",
    "     - looks like count of floods with magnitude greather than 6 per annum up to that date?\n",
    "     - derived column     \n",
    " - M>4\n",
    "     - boolean field if the magnitude is greater than 4\n",
    "     - derived column     \n",
    " - Total annual floods M>4 \n",
    "     - looks like count of floods with magnitude greater than 4 per annum up to that date.\n",
    "     - derived column     \n",
    " - Date Began\n",
    "     - Look like another start date for the event. \n",
    " - Total floods M>6\n",
    "     - ?\n",
    "     - derived column     \n",
    " - Notes and Comments (may include quoted headlines from copyrighted news stories; for internal research purposes only)\n",
    "     - Notes and comments about the event\n",
    " - Unnamed: 30 DROP THE FOLLOWING COLS\n",
    " - Unnamed: 31\n",
    " - Unnamed: 32\n",
    " - Unnamed: 33\n",
    " - Unnamed: 34\n",
    " - Unnamed: 35\n",
    " \n",
    "There are three types of columns in the dataset: identifier columns, which have ids to used by different sytstems, \n",
    "     "
   ]
  },
  {
   "cell_type": "markdown",
   "metadata": {},
   "source": [
    "## Cleaning"
   ]
  },
  {
   "cell_type": "code",
   "execution_count": 90,
   "metadata": {
    "collapsed": false
   },
   "outputs": [],
   "source": [
    "# Drop Empty columns\n",
    "floods.drop([\n",
    "    'Nations', ' Affected', 'Unnamed: 30', \n",
    "    'Unnamed: 31', 'Unnamed: 32', 'Unnamed: 33',\n",
    "    'Unnamed: 34', 'Unnamed: 35'\n",
    "], axis=1, inplace=True)"
   ]
  },
  {
   "cell_type": "code",
   "execution_count": 91,
   "metadata": {
    "collapsed": false
   },
   "outputs": [],
   "source": [
    "# Replace the column names with more analysis-friendly ones\n",
    "new_cols = [\n",
    "    'register_no', 'annual_dfo_no', 'glide_no', \n",
    "    'country', 'other', 'detailed_locations', \n",
    "    'validation', 'began', 'ended', 'duration_in_days',\n",
    "    'dead', 'displaced', 'damage_usd', 'main_cause',\n",
    "    'severity', 'affected_sq_km', 'magnitude',\n",
    "    'centroid_x', 'centroid_y', 'news_if_validated',\n",
    "    'mgt6', 'total_annual_floods_mgt6', 'mgt4',\n",
    "    'total_annual_floods_mgt4', 'date_began',\n",
    "    'total_floods_mgt6', 'total_floods_mgt4', 'notes'\n",
    "]\n",
    "floods.columns = new_cols"
   ]
  },
  {
   "cell_type": "code",
   "execution_count": 160,
   "metadata": {
    "collapsed": false
   },
   "outputs": [],
   "source": [
    "# replace 0 in 'other' column with None\n",
    "floods.other.replace('0', np.nan, inplace=True)"
   ]
  },
  {
   "cell_type": "code",
   "execution_count": 164,
   "metadata": {
    "collapsed": false
   },
   "outputs": [],
   "source": [
    "# replace 0 in validation with None and lowercase 'News'\n",
    "floods.validation.replace('0', np.nan, inplace=True)"
   ]
  },
  {
   "cell_type": "code",
   "execution_count": 94,
   "metadata": {
    "collapsed": false
   },
   "outputs": [],
   "source": [
    "# convert dates to datetimes\n",
    "floods['began'] = floods.began.apply(pd.to_datetime)\n",
    "floods['ended'] = floods.ended.apply(pd.to_datetime)"
   ]
  },
  {
   "cell_type": "code",
   "execution_count": 96,
   "metadata": {
    "collapsed": false
   },
   "outputs": [],
   "source": [
    "# convert damage to ints\n",
    "floods['damage_usd'] = floods.damage_usd.apply(lambda s: re.sub(r'[^0-9]', '', str(s)) if s else np.nan)\n",
    "floods['damage_usd'] = floods.damage_usd.replace('', np.nan).astype(float)"
   ]
  },
  {
   "cell_type": "code",
   "execution_count": 101,
   "metadata": {
    "collapsed": false
   },
   "outputs": [],
   "source": [
    "# replace zeros/nans with empty stirng and lowercase\n",
    "floods['main_cause'] = floods.main_cause.fillna('').apply(lambda s: s.lower())\n",
    "# this could use additional cleaning."
   ]
  },
  {
   "cell_type": "code",
   "execution_count": 122,
   "metadata": {
    "collapsed": false
   },
   "outputs": [],
   "source": [
    "# lowercase news_if)validated and replace zeros"
   ]
  },
  {
   "cell_type": "code",
   "execution_count": 138,
   "metadata": {
    "collapsed": false
   },
   "outputs": [],
   "source": [
    "floods['date_began'] = floods.date_began.apply(pd.to_datetime)"
   ]
  },
  {
   "cell_type": "code",
   "execution_count": null,
   "metadata": {
    "collapsed": true
   },
   "outputs": [],
   "source": [
    "# Additional checks:\n",
    "# - make sure centroids call in countries "
   ]
  },
  {
   "cell_type": "code",
   "execution_count": 167,
   "metadata": {
    "collapsed": false
   },
   "outputs": [],
   "source": [
    "# Make sure there are no other empty rows or columns\n",
    "assert floods[floods.isnull().all(axis=1)].shape[0] == 0\n",
    "assert True not in floods.isnull().all(axis=0)"
   ]
  },
  {
   "cell_type": "code",
   "execution_count": 169,
   "metadata": {
    "collapsed": true
   },
   "outputs": [],
   "source": [
    "# create the clean dataset\n",
    "floods.to_csv('../data/global_floods_records_clean.csv', index=False, ecoding='utf-8')"
   ]
  },
  {
   "cell_type": "markdown",
   "metadata": {},
   "source": [
    "## Basic EDA"
   ]
  },
  {
   "cell_type": "code",
   "execution_count": null,
   "metadata": {
    "collapsed": true
   },
   "outputs": [],
   "source": [
    "# counts and distributions of categorical and numeric variables"
   ]
  },
  {
   "cell_type": "code",
   "execution_count": null,
   "metadata": {
    "collapsed": true
   },
   "outputs": [],
   "source": [
    "# "
   ]
  }
 ],
 "metadata": {
  "kernelspec": {
   "display_name": "Python 2",
   "language": "python",
   "name": "python2"
  },
  "language_info": {
   "codemirror_mode": {
    "name": "ipython",
    "version": 2
   },
   "file_extension": ".py",
   "mimetype": "text/x-python",
   "name": "python",
   "nbconvert_exporter": "python",
   "pygments_lexer": "ipython2",
   "version": "2.7.10"
  }
 },
 "nbformat": 4,
 "nbformat_minor": 0
}
